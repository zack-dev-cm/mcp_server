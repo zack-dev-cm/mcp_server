{
  "cells": [
    {
      "cell_type": "markdown",
      "id": "c87d8481",
      "metadata": {},
      "source": [
        "<a href=\"https://colab.research.google.com/github/zack-dev-cm/mcp_server/blob/main/MCP_colab.ipynb\" target=\"_parent\"><img src=\"https://colab.research.google.com/assets/colab-badge.svg\" alt=\"Open In Colab\"/></a>"
      ]
    },
    {
      "cell_type": "markdown",
      "id": "6e8a35a7",
      "metadata": {},
      "source": [
        "## Running the MCP demo in Colab\n",
        "This notebook starts the server and shows how to query it."
      ]
    },
    {
      "cell_type": "code",
      "execution_count": null,
      "id": "c7ecc1ea",
      "metadata": {},
      "outputs": [],
      "source": [
        "!pip install fastapi uvicorn[standard] gradio==4.* httpx openai pydantic pydantic-settings python-dotenv --quiet"
      ]
    },
    {
      "cell_type": "code",
      "execution_count": null,
      "id": "6e43d3a8",
      "metadata": {},
      "outputs": [],
      "source": [
        "from colab_adapter import launch_in_colab\n",
        "launch_in_colab()"
      ]
    },
    {
      "cell_type": "code",
      "execution_count": null,
      "id": "d5ca3dfc",
      "metadata": {},
      "outputs": [],
      "source": [
        "import requests, time\n",
        "time.sleep(2)\n",
        "requests.get(\"http://localhost:8000/v1/resources\").json()"
      ]
    },
    {
      "cell_type": "markdown",
      "id": "c5d44564",
      "metadata": {},
      "source": [
        "Open the URL printed above to access the Gradio UI."
      ]
    }
  ],
  "metadata": {},
  "nbformat": 4,
  "nbformat_minor": 5
}
